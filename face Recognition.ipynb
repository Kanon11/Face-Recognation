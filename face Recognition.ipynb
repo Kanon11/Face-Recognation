{
 "cells": [
  {
   "cell_type": "code",
   "execution_count": 1,
   "metadata": {},
   "outputs": [],
   "source": [
    "import dlib\n",
    "import cv2\n",
    "import numpy as np\n",
    "from scipy import ndimage"
   ]
  },
  {
   "cell_type": "code",
   "execution_count": 2,
   "metadata": {},
   "outputs": [],
   "source": [
    "video_capture = cv2.VideoCapture(0)\n",
    "glasses = cv2.imread(\"data/sunglasses.png\", -1)\n",
    "detector = dlib.get_frontal_face_detector()"
   ]
  },
  {
   "cell_type": "code",
   "execution_count": 3,
   "metadata": {},
   "outputs": [],
   "source": [
    "predictor = dlib.shape_predictor(\"shape_predictor_68_face_landmarks.dat\")"
   ]
  },
  {
   "cell_type": "code",
   "execution_count": 4,
   "metadata": {},
   "outputs": [],
   "source": [
    "#Resize an image to a certain width\n",
    "def resize(img, width):\n",
    "    r = float(width) / img.shape[1]\n",
    "    dim = (width, int(img.shape[0] * r))\n",
    "    img = cv2.resize(img, dim, interpolation=cv2.INTER_AREA)\n",
    "    return img"
   ]
  },
  {
   "cell_type": "code",
   "execution_count": 5,
   "metadata": {},
   "outputs": [],
   "source": [
    "#Combine an image that has a transparency alpha channel\n",
    "def blend_transparent(face_img, sunglasses_img):\n",
    "\n",
    "    overlay_img = sunglasses_img[:,:,:3]\n",
    "    overlay_mask = sunglasses_img[:,:,3:]\n",
    "    \n",
    "    background_mask = 255 - overlay_mask\n",
    "\n",
    "    overlay_mask = cv2.cvtColor(overlay_mask, cv2.COLOR_GRAY2BGR)\n",
    "    background_mask = cv2.cvtColor(background_mask, cv2.COLOR_GRAY2BGR)\n",
    "\n",
    "    face_part = (face_img * (1 / 255.0)) * (background_mask * (1 / 255.0))\n",
    "    overlay_part = (overlay_img * (1 / 255.0)) * (overlay_mask * (1 / 255.0))\n",
    "\n",
    "    return np.uint8(cv2.addWeighted(face_part, 255.0, overlay_part, 255.0, 0.0))"
   ]
  },
  {
   "cell_type": "code",
   "execution_count": 6,
   "metadata": {},
   "outputs": [],
   "source": [
    "#Find the angle between two points\n",
    "def angle_between(point_1, point_2):\n",
    "    angle_1 = np.arctan2(*point_1[::-1])\n",
    "    angle_2 = np.arctan2(*point_2[::-1])\n",
    "    return np.rad2deg((angle_1 - angle_2) % (2 * np.pi))"
   ]
  },
  {
   "cell_type": "code",
   "execution_count": null,
   "metadata": {},
   "outputs": [],
   "source": [
    "#Start main program\n",
    "while True:\n",
    "\n",
    "    ret, img = video_capture.read()\n",
    "    img = resize(img, 1000)\n",
    "    img_copy = img.copy()\n",
    "    gray = cv2.cvtColor(img, cv2.COLOR_BGR2GRAY)\n",
    "\n",
    "    try:\n",
    "        # detect faces\n",
    "        dets = detector(gray, 1)\n",
    "\n",
    "        #find face box bounding points\n",
    "        for d in dets:\n",
    "\n",
    "            x = d.left()\n",
    "            y = d.top()\n",
    "            w = d.right()\n",
    "            h = d.bottom()\n",
    "\n",
    "        dlib_rect = dlib.rectangle(x, y, w, h)\n",
    "\n",
    "        ##############   Find facial landmarks   ##############\n",
    "        detected_landmarks = predictor(gray, dlib_rect).parts()\n",
    "\n",
    "        landmarks = np.matrix([[p.x, p.y] for p in detected_landmarks])\n",
    "\n",
    "        for idx, point in enumerate(landmarks):\n",
    "            pos = (point[0, 0], point[0, 1])\n",
    "            if idx == 0:\n",
    "                eye_left = pos\n",
    "            elif idx == 16:\n",
    "                eye_right = pos\n",
    "\n",
    "            try:\n",
    "                #cv2.line(img_copy, eye_left, eye_right, color=(0, 255, 255))\n",
    "                degree = np.rad2deg(np.arctan2(eye_left[0] - eye_right[0], eye_left[1] - eye_right[1]))\n",
    "\n",
    "            except:\n",
    "                pass\n",
    "\n",
    "        ##############   Resize and rotate glasses   ##############\n",
    "\n",
    "        #Translate facial object based on input object.\n",
    "\n",
    "        eye_center = (eye_left[1] + eye_right[1]) / 2\n",
    "\n",
    "        #Sunglasses translation\n",
    "        glass_trans = int(.2 * (eye_center - y))\n",
    "\n",
    "        #Funny tanslation\n",
    "        #glass_trans = int(-.3 * (eye_center - y ))\n",
    "\n",
    "        # Mask translation\n",
    "        #glass_trans = int(-.8 * (eye_center - y))\n",
    "\n",
    "\n",
    "        # resize glasses to width of face and blend images\n",
    "        face_width = w - x\n",
    "\n",
    "        # resize_glasses\n",
    "        glasses_resize = resize(glasses, face_width)\n",
    "\n",
    "        # Rotate glasses based on angle between eyes\n",
    "        yG, xG, cG = glasses_resize.shape\n",
    "        glasses_resize_rotated = ndimage.rotate(glasses_resize, (degree+90))\n",
    "        glass_rec_rotated = ndimage.rotate(img[y + glass_trans:y + yG + glass_trans, x:w], (degree+90))\n",
    "\n",
    "\n",
    "        #blending with rotation\n",
    "        h5, w5, s5 = glass_rec_rotated.shape\n",
    "        rec_resize = img_copy[y + glass_trans:y + h5 + glass_trans, x:x + w5]\n",
    "        blend_glass3 = blend_transparent(rec_resize , glasses_resize_rotated)\n",
    "        img_copy[y + glass_trans:y + h5 + glass_trans, x:x+w5 ] = blend_glass3\n",
    "        cv2.imshow('Output', img_copy)\n",
    "\n",
    "    except:\n",
    "        cv2.imshow('Output', img_copy)\n",
    "\n",
    "    if cv2.waitKey(1) & 0xFF == ord('q'):\n",
    "        break"
   ]
  },
  {
   "cell_type": "code",
   "execution_count": null,
   "metadata": {},
   "outputs": [],
   "source": []
  },
  {
   "cell_type": "code",
   "execution_count": null,
   "metadata": {},
   "outputs": [],
   "source": []
  }
 ],
 "metadata": {
  "kernelspec": {
   "display_name": "Python 3",
   "language": "python",
   "name": "python3"
  },
  "language_info": {
   "codemirror_mode": {
    "name": "ipython",
    "version": 3
   },
   "file_extension": ".py",
   "mimetype": "text/x-python",
   "name": "python",
   "nbconvert_exporter": "python",
   "pygments_lexer": "ipython3",
   "version": "3.7.0"
  }
 },
 "nbformat": 4,
 "nbformat_minor": 2
}
